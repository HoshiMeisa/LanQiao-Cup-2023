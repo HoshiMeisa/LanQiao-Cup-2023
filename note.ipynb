{
 "cells": [
  {
   "cell_type": "markdown",
   "source": [
    "一行输入多个数和n个数的方法\n"
   ],
   "metadata": {
    "collapsed": false
   }
  },
  {
   "cell_type": "code",
   "execution_count": null,
   "outputs": [],
   "source": [
    "a, b = map(int, input().split())\n",
    "\n",
    "nums = input()\n",
    "num = []\n",
    "for i in nums.split():\n",
    "    num.append(int(i))"
   ],
   "metadata": {
    "collapsed": false
   }
  },
  {
   "cell_type": "code",
   "execution_count": 1,
   "outputs": [
    {
     "name": "stdout",
     "output_type": "stream",
     "text": [
      "12345 54321\n"
     ]
    }
   ],
   "source": [
    "i = 12345\n",
    "\n",
    "print(str(i), str(i)[::-1])"
   ],
   "metadata": {
    "collapsed": false
   }
  }
 ],
 "metadata": {
  "kernelspec": {
   "display_name": "Python 3",
   "language": "python",
   "name": "python3"
  },
  "language_info": {
   "codemirror_mode": {
    "name": "ipython",
    "version": 2
   },
   "file_extension": ".py",
   "mimetype": "text/x-python",
   "name": "python",
   "nbconvert_exporter": "python",
   "pygments_lexer": "ipython2",
   "version": "2.7.6"
  }
 },
 "nbformat": 4,
 "nbformat_minor": 0
}
