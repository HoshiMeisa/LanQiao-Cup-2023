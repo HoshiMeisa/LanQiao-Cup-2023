{
 "cells": [
  {
   "cell_type": "markdown",
   "metadata": {},
   "source": [
    "# split()\n",
    "\n",
    "通过指定分隔符对字符串进行切片，如果参数 num 有指定值，则分隔 num+1 个子字符串，**不填则默认为空格**\n",
    "\n",
    "``str.split(str=\"\", num=string.count(str))``\n",
    "\n",
    "> str -- 分隔符，默认为所有的空字符，包括空格、换行(\\n)、制表符(\\t)等。\n",
    "> num -- 分割次数。默认为 -1, 即分隔所有。"
   ]
  },
  {
   "cell_type": "code",
   "execution_count": 3,
   "metadata": {
    "collapsed": false,
    "jupyter": {
     "outputs_hidden": false
    }
   },
   "outputs": [
    {
     "name": "stdout",
     "output_type": "stream",
     "text": [
      "['Line1-abcdrf', 'Line2-adasad', 'Line3-dawdasd']\n",
      "['Line1-abcdrf', '\\nLine2-adasad \\nLine3-dawdasd']\n"
     ]
    }
   ],
   "source": [
    "str1 = \"Line1-abcdrf \\nLine2-adasad \\nLine3-dawdasd\"\n",
    "print(str1.split())\n",
    "print(str1.split(' ', 1))"
   ]
  },
  {
   "cell_type": "code",
   "execution_count": null,
   "outputs": [],
   "source": [],
   "metadata": {
    "collapsed": false
   }
  },
  {
   "cell_type": "markdown",
   "metadata": {},
   "source": [
    "# chr()\n",
    "把整数转化为字符。chr()用一个范围在range(256)(即0~255)的整数作为参数，返回一个对应的字符。"
   ]
  },
  {
   "cell_type": "code",
   "execution_count": 4,
   "metadata": {
    "collapsed": false,
    "jupyter": {
     "outputs_hidden": false
    }
   },
   "outputs": [
    {
     "name": "stdout",
     "output_type": "stream",
     "text": [
      "0 1 a\n"
     ]
    },
    {
     "data": {
      "text/plain": "('0', '1', 'a')"
     },
     "execution_count": 4,
     "metadata": {},
     "output_type": "execute_result"
    }
   ],
   "source": [
    "print(chr(0x30), chr(0x31), chr(0x61))\n",
    "chr(48), chr(49), chr(97)"
   ]
  },
  {
   "cell_type": "markdown",
   "metadata": {
    "jupyter": {
     "outputs_hidden": false
    }
   },
   "source": [
    "# ord()\n",
    "把字符转换为整形，它是chr()函数和unichr()函数的配对函数，它以一个字符作为参数，返回对应的ASCII数值或者UniCode数值，若果所给的Unicode字符超出了Python定义范围，则会抛出TypeError异常"
   ]
  },
  {
   "cell_type": "code",
   "execution_count": 5,
   "metadata": {
    "collapsed": false,
    "jupyter": {
     "outputs_hidden": false
    }
   },
   "outputs": [
    {
     "data": {
      "text/plain": "(97, 98, 99)"
     },
     "execution_count": 5,
     "metadata": {},
     "output_type": "execute_result"
    }
   ],
   "source": [
    "ord('a'), ord('b'), ord('c')"
   ]
  },
  {
   "cell_type": "markdown",
   "metadata": {
    "jupyter": {
     "outputs_hidden": false
    }
   },
   "source": [
    "# decode()\n",
    "以指定的编码形式解码字符串，默认编码为字符串编码, 该方法返回解码后的字符串。\n",
    "```\n",
    "str.decode(encoding='UTF-8', errors='strict')\n",
    "```\n",
    "- encoding -- 要使用的编码，如\"UTF-8\"\n",
    "- errors -- 设置不同错误的处理方案。默认为 'strict',意为编码错误引起一个UnicodeError。 其他可能得值有 'ignore', 'replace', 'xmlcharrefreplace', 'backslashreplace' 以及通过 codecs.register_error() 注册的任何值"
   ]
  },
  {
   "cell_type": "markdown",
   "metadata": {
    "jupyter": {
     "outputs_hidden": false
    }
   },
   "source": [
    "# encode()\n",
    "以指定的编码形式编码字符串, 该方法返回解码后的字符串。\n",
    "```\n",
    "str.encode(encoding='UTF-8', errors='strict')\n",
    "```\n",
    "- encoding -- 要使用的编码，如\"UTF-8\"\n",
    "- errors -- 设置不同错误的处理方案。默认为 'strict',意为编码错误引起一个UnicodeError。 其他可能得值有 'ignore', 'replace', 'xmlcharrefreplace', 'backslashreplace' 以及通过 codecs.register_error() 注册的任何值"
   ]
  },
  {
   "cell_type": "markdown",
   "metadata": {
    "jupyter": {
     "outputs_hidden": false
    }
   },
   "source": [
    "# max()和min()\n",
    "可以直接得出最大最小值"
   ]
  },
  {
   "cell_type": "markdown",
   "source": [
    "# abs() / math.fbs()\n",
    "分别返回整数和浮点数的绝对值"
   ],
   "metadata": {
    "collapsed": false
   }
  },
  {
   "cell_type": "markdown",
   "metadata": {
    "jupyter": {
     "outputs_hidden": false
    }
   },
   "source": [
    "# list(range(n))\n",
    "得到一个某范围内的列表"
   ]
  },
  {
   "cell_type": "code",
   "execution_count": 6,
   "metadata": {
    "collapsed": false,
    "jupyter": {
     "outputs_hidden": false
    }
   },
   "outputs": [
    {
     "data": {
      "text/plain": "[0, 1, 2, 3, 4, 5, 6, 7, 8, 9]"
     },
     "execution_count": 6,
     "metadata": {},
     "output_type": "execute_result"
    }
   ],
   "source": [
    "list(range(10))"
   ]
  },
  {
   "cell_type": "markdown",
   "metadata": {
    "jupyter": {
     "outputs_hidden": false
    }
   },
   "source": [
    "# int()  str()\n",
    "类型转换"
   ]
  },
  {
   "cell_type": "markdown",
   "metadata": {
    "jupyter": {
     "outputs_hidden": false
    }
   },
   "source": [
    "# 保留小数位数的方法\n",
    "例如将x保留三位小数\n",
    "- (1)round(x, 3)\n",
    "- (2)print('%.3f' % x)    # C风格的写法\n",
    "- (3)print(\"{:.3f}\".format(x))"
   ]
  },
  {
   "cell_type": "code",
   "execution_count": 7,
   "metadata": {
    "collapsed": false,
    "jupyter": {
     "outputs_hidden": false
    }
   },
   "outputs": [
    {
     "name": "stdout",
     "output_type": "stream",
     "text": [
      "3.142\n",
      "3.142\n",
      "3.142\n"
     ]
    }
   ],
   "source": [
    "a = 3.14159\n",
    "print(round(a, 3))\n",
    "print('%.3f' % a)\n",
    "print(\"{:.3f}\".format(a))"
   ]
  },
  {
   "cell_type": "markdown",
   "metadata": {
    "jupyter": {
     "outputs_hidden": false
    }
   },
   "source": [
    "# len()\n",
    "返回对象的长度"
   ]
  },
  {
   "cell_type": "code",
   "execution_count": 8,
   "metadata": {
    "collapsed": false,
    "jupyter": {
     "outputs_hidden": false
    }
   },
   "outputs": [
    {
     "name": "stdout",
     "output_type": "stream",
     "text": [
      "9\n",
      "4\n"
     ]
    }
   ],
   "source": [
    "s = 'kanameisa'\n",
    "print(len(s))\n",
    "\n",
    "l = [1, 2, 3, 4,]\n",
    "print(len(l))"
   ]
  },
  {
   "cell_type": "markdown",
   "metadata": {
    "jupyter": {
     "outputs_hidden": false
    }
   },
   "source": [
    "# map()\n",
    "根据提供的函数对指定序列做映射。\n",
    "第一个参数function以参数序列中的每一个元素调用function函数，返回包含每次function函数返回值的新列表\n",
    "```\n",
    "map(function, iterable, ...)\n",
    "```"
   ]
  },
  {
   "cell_type": "code",
   "execution_count": 9,
   "metadata": {
    "collapsed": false,
    "jupyter": {
     "outputs_hidden": false
    }
   },
   "outputs": [
    {
     "name": "stdout",
     "output_type": "stream",
     "text": [
      "<map object at 0x7f7b2846c850> 返回对象是一个迭代器\n",
      "[1, 4, 9, 16, 25]\n",
      "[1, 4, 9, 16, 25]\n"
     ]
    }
   ],
   "source": [
    "def square(x):\n",
    "    return x ** 2\n",
    "\n",
    "l1 = map(square, [1, 2, 3, 4, 5])\n",
    "l2 = list(l1)\n",
    "l3 = list(map(lambda x : x ** 2, [1, 2, 3, 4, 5]))\n",
    "\n",
    "print(f'{l1} 返回对象是一个迭代器')\n",
    "print(l2)\n",
    "print(l3)"
   ]
  },
  {
   "cell_type": "markdown",
   "source": [
    "# sorted()\n",
    "对所有可迭代对象进行排序操作\n",
    "- 与sort相比，sorted返回一个新的对象，而sort在原对象上操作"
   ],
   "metadata": {
    "collapsed": false
   }
  },
  {
   "cell_type": "markdown",
   "source": [
    "# round(x, n)\n",
    "返回浮点数的四舍六入值，若给出n值，则代表舍入到小数点后边的n位数，如果距离两边一样远，会保留到偶数的一边"
   ],
   "metadata": {
    "collapsed": false
   }
  },
  {
   "cell_type": "code",
   "execution_count": 3,
   "outputs": [
    {
     "data": {
      "text/plain": "(2, 3.14)"
     },
     "execution_count": 3,
     "metadata": {},
     "output_type": "execute_result"
    }
   ],
   "source": [
    "round(2.5), round(3.141, 2)"
   ],
   "metadata": {
    "collapsed": false
   }
  },
  {
   "cell_type": "markdown",
   "source": [
    "# math.ceil()  math.floor()\n",
    "分别为上取整和下取整"
   ],
   "metadata": {
    "collapsed": false
   }
  },
  {
   "cell_type": "markdown",
   "source": [
    "# math.exp(x)  math.log(x, base)\n",
    "分别返回e的x次幂和以base为底x的对数"
   ],
   "metadata": {
    "collapsed": false
   }
  },
  {
   "cell_type": "code",
   "execution_count": 5,
   "outputs": [
    {
     "data": {
      "text/plain": "(2.718281828459045, 2.0, 2.0)"
     },
     "execution_count": 5,
     "metadata": {},
     "output_type": "execute_result"
    }
   ],
   "source": [
    "import math\n",
    "math.exp(1), math.log(100, 10), math.log10(100)"
   ],
   "metadata": {
    "collapsed": false
   }
  },
  {
   "cell_type": "markdown",
   "source": [
    "# modf(x)\n",
    "分离x的整数与小数部分，两者都以浮点形式表示，符号和x相同"
   ],
   "metadata": {
    "collapsed": false
   }
  },
  {
   "cell_type": "code",
   "execution_count": 6,
   "outputs": [
    {
     "name": "stdout",
     "output_type": "stream",
     "text": [
      "0.14159265358979312 3.0\n"
     ]
    }
   ],
   "source": [
    "import math\n",
    "x, y = math.modf(math.pi)\n",
    "print(x, y)     # 小数在前，整数在后"
   ],
   "metadata": {
    "collapsed": false
   }
  },
  {
   "cell_type": "markdown",
   "source": [
    "# sqrt(x)\n",
    "返回x的平方根"
   ],
   "metadata": {
    "collapsed": false
   }
  },
  {
   "cell_type": "code",
   "execution_count": 7,
   "outputs": [
    {
     "data": {
      "text/plain": "8.0"
     },
     "execution_count": 7,
     "metadata": {},
     "output_type": "execute_result"
    }
   ],
   "source": [
    "import math\n",
    "math.sqrt(64)"
   ],
   "metadata": {
    "collapsed": false
   }
  },
  {
   "cell_type": "markdown",
   "source": [],
   "metadata": {
    "collapsed": false
   }
  },
  {
   "cell_type": "code",
   "execution_count": null,
   "outputs": [],
   "source": [],
   "metadata": {
    "collapsed": false
   }
  }
 ],
 "metadata": {
  "kernelspec": {
   "display_name": "Python 3 (ipykernel)",
   "language": "python",
   "name": "python3"
  },
  "language_info": {
   "codemirror_mode": {
    "name": "ipython",
    "version": 3
   },
   "file_extension": ".py",
   "mimetype": "text/x-python",
   "name": "python",
   "nbconvert_exporter": "python",
   "pygments_lexer": "ipython3",
   "version": "3.9.13"
  }
 },
 "nbformat": 4,
 "nbformat_minor": 4
}
