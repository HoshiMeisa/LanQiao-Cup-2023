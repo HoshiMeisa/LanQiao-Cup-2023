{
 "cells": [
  {
   "cell_type": "code",
   "execution_count": 1,
   "outputs": [
    {
     "data": {
      "text/plain": "15"
     },
     "execution_count": 1,
     "metadata": {},
     "output_type": "execute_result"
    }
   ],
   "source": [
    "int('0xf', 16)"
   ],
   "metadata": {
    "collapsed": false
   }
  },
  {
   "cell_type": "code",
   "execution_count": 3,
   "outputs": [
    {
     "name": "stdout",
     "output_type": "stream",
     "text": [
      "[[0, 0, 0], [0, 0, 0]]\n"
     ]
    }
   ],
   "source": [
    "n = [[0 for _ in range(3)] for __ in range(2)]\n",
    "print(n)\n"
   ],
   "metadata": {
    "collapsed": false,
    "ExecuteTime": {
     "end_time": "2023-06-08T03:29:08.638274673Z",
     "start_time": "2023-06-08T03:29:08.628643164Z"
    }
   }
  },
  {
   "cell_type": "code",
   "execution_count": 5,
   "outputs": [
    {
     "name": "stdout",
     "output_type": "stream",
     "text": [
      "1 1 1 1\n"
     ]
    }
   ],
   "source": [
    "total = int(input())\n",
    "num_1 = 0\n",
    "num_5 = 0\n",
    "num_10 = 0\n",
    "num_25 = 0\n",
    "\n",
    "while total >= 25:\n",
    "    num_25 += 1\n",
    "    total -= 25\n",
    "\n",
    "while total >= 10:\n",
    "    num_10 += 1\n",
    "    total -= 10\n",
    "\n",
    "while total >= 5:\n",
    "    num_5 += 1\n",
    "    total -= 5\n",
    "\n",
    "while total >= 1:\n",
    "    num_1 += 1\n",
    "    total -= 1\n",
    "\n",
    "print(num_25, num_10, num_5, num_1)"
   ],
   "metadata": {
    "collapsed": false,
    "ExecuteTime": {
     "end_time": "2023-06-08T06:55:33.292930387Z",
     "start_time": "2023-06-08T06:55:31.597297331Z"
    }
   }
  },
  {
   "cell_type": "code",
   "execution_count": 6,
   "outputs": [
    {
     "name": "stdout",
     "output_type": "stream",
     "text": [
      "5\n"
     ]
    }
   ],
   "source": [
    "def f(n):\n",
    "\n",
    "    if n == 0:\n",
    "        return 0\n",
    "    elif n == 1:\n",
    "        return 1\n",
    "    elif n == 2:\n",
    "        return 2\n",
    "    else:\n",
    "        return f(n - 2) + f(n - 1)\n",
    "\n",
    "\n",
    "n = int(input())\n",
    "print(f(n))\n"
   ],
   "metadata": {
    "collapsed": false,
    "ExecuteTime": {
     "end_time": "2023-06-08T07:07:55.267069282Z",
     "start_time": "2023-06-08T07:07:48.215144067Z"
    }
   }
  }
 ],
 "metadata": {
  "kernelspec": {
   "display_name": "Python 3",
   "language": "python",
   "name": "python3"
  },
  "language_info": {
   "codemirror_mode": {
    "name": "ipython",
    "version": 2
   },
   "file_extension": ".py",
   "mimetype": "text/x-python",
   "name": "python",
   "nbconvert_exporter": "python",
   "pygments_lexer": "ipython2",
   "version": "2.7.6"
  }
 },
 "nbformat": 4,
 "nbformat_minor": 0
}
