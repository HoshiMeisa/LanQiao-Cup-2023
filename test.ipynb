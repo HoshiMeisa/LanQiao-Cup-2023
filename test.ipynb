{
 "cells": [
  {
   "cell_type": "code",
   "execution_count": 1,
   "outputs": [
    {
     "data": {
      "text/plain": "15"
     },
     "execution_count": 1,
     "metadata": {},
     "output_type": "execute_result"
    }
   ],
   "source": [
    "int('0xf', 16)"
   ],
   "metadata": {
    "collapsed": false
   }
  },
  {
   "cell_type": "code",
   "execution_count": 3,
   "outputs": [
    {
     "name": "stdout",
     "output_type": "stream",
     "text": [
      "[[0, 0, 0], [0, 0, 0]]\n"
     ]
    }
   ],
   "source": [
    "n = [[0 for _ in range(3)] for __ in range(2)]\n",
    "print(n)\n"
   ],
   "metadata": {
    "collapsed": false,
    "ExecuteTime": {
     "end_time": "2023-06-08T03:29:08.638274673Z",
     "start_time": "2023-06-08T03:29:08.628643164Z"
    }
   }
  },
  {
   "cell_type": "code",
   "execution_count": 5,
   "outputs": [
    {
     "name": "stdout",
     "output_type": "stream",
     "text": [
      "1 1 1 1\n"
     ]
    }
   ],
   "source": [
    "total = int(input())\n",
    "num_1 = 0\n",
    "num_5 = 0\n",
    "num_10 = 0\n",
    "num_25 = 0\n",
    "\n",
    "while total >= 25:\n",
    "    num_25 += 1\n",
    "    total -= 25\n",
    "\n",
    "while total >= 10:\n",
    "    num_10 += 1\n",
    "    total -= 10\n",
    "\n",
    "while total >= 5:\n",
    "    num_5 += 1\n",
    "    total -= 5\n",
    "\n",
    "while total >= 1:\n",
    "    num_1 += 1\n",
    "    total -= 1\n",
    "\n",
    "print(num_25, num_10, num_5, num_1)"
   ],
   "metadata": {
    "collapsed": false,
    "ExecuteTime": {
     "end_time": "2023-06-08T06:55:33.292930387Z",
     "start_time": "2023-06-08T06:55:31.597297331Z"
    }
   }
  },
  {
   "cell_type": "code",
   "execution_count": 13,
   "outputs": [
    {
     "ename": "IndexError",
     "evalue": "list assignment index out of range",
     "output_type": "error",
     "traceback": [
      "\u001B[0;31m---------------------------------------------------------------------------\u001B[0m",
      "\u001B[0;31mIndexError\u001B[0m                                Traceback (most recent call last)",
      "Cell \u001B[0;32mIn[13], line 13\u001B[0m\n\u001B[1;32m     10\u001B[0m     \u001B[38;5;28;01mreturn\u001B[39;00m dp[\u001B[38;5;241m-\u001B[39m\u001B[38;5;241m1\u001B[39m]\n\u001B[1;32m     12\u001B[0m n \u001B[38;5;241m=\u001B[39m \u001B[38;5;28mint\u001B[39m(\u001B[38;5;28minput\u001B[39m())\n\u001B[0;32m---> 13\u001B[0m \u001B[38;5;28mprint\u001B[39m(\u001B[43mf\u001B[49m\u001B[43m(\u001B[49m\u001B[43mn\u001B[49m\u001B[43m)\u001B[49m)\n",
      "Cell \u001B[0;32mIn[13], line 5\u001B[0m, in \u001B[0;36mf\u001B[0;34m(n)\u001B[0m\n\u001B[1;32m      2\u001B[0m dp \u001B[38;5;241m=\u001B[39m [\u001B[38;5;241m0\u001B[39m \u001B[38;5;28;01mfor\u001B[39;00m _ \u001B[38;5;129;01min\u001B[39;00m \u001B[38;5;28mrange\u001B[39m(n)]\n\u001B[1;32m      4\u001B[0m dp[\u001B[38;5;241m0\u001B[39m] \u001B[38;5;241m=\u001B[39m \u001B[38;5;241m1\u001B[39m\n\u001B[0;32m----> 5\u001B[0m dp[\u001B[38;5;241m1\u001B[39m] \u001B[38;5;241m=\u001B[39m \u001B[38;5;241m2\u001B[39m\n\u001B[1;32m      7\u001B[0m \u001B[38;5;28;01mfor\u001B[39;00m i \u001B[38;5;129;01min\u001B[39;00m \u001B[38;5;28mrange\u001B[39m(\u001B[38;5;241m2\u001B[39m, n):\n\u001B[1;32m      8\u001B[0m     dp[i] \u001B[38;5;241m=\u001B[39m dp[i \u001B[38;5;241m-\u001B[39m \u001B[38;5;241m1\u001B[39m] \u001B[38;5;241m+\u001B[39m dp[i \u001B[38;5;241m-\u001B[39m \u001B[38;5;241m2\u001B[39m]\n",
      "\u001B[0;31mIndexError\u001B[0m: list assignment index out of range"
     ]
    }
   ],
   "source": [
    "def f(n):\n",
    "    if n == 1:\n",
    "        return 1\n",
    "\n",
    "    dp = [0 for _ in range(n)]\n",
    "\n",
    "    dp[0] = 1\n",
    "    dp[1] = 2\n",
    "\n",
    "    for i in range(2, n):\n",
    "        dp[i] = dp[i - 1] + dp[i - 2]\n",
    "\n",
    "    return dp[-1]\n",
    "\n",
    "n = int(input())\n",
    "print(f(n))\n"
   ],
   "metadata": {
    "collapsed": false,
    "ExecuteTime": {
     "end_time": "2023-06-08T07:24:11.764379679Z",
     "start_time": "2023-06-08T07:24:10.925479074Z"
    }
   }
  }
 ],
 "metadata": {
  "kernelspec": {
   "display_name": "Python 3",
   "language": "python",
   "name": "python3"
  },
  "language_info": {
   "codemirror_mode": {
    "name": "ipython",
    "version": 2
   },
   "file_extension": ".py",
   "mimetype": "text/x-python",
   "name": "python",
   "nbconvert_exporter": "python",
   "pygments_lexer": "ipython2",
   "version": "2.7.6"
  }
 },
 "nbformat": 4,
 "nbformat_minor": 0
}
