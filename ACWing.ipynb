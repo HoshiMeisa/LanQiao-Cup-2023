{
 "cells": [
  {
   "cell_type": "markdown",
   "source": [
    "# 二分查找\n",
    "二分搜索是一种在有序数组中查找某一特定元素的搜索算法。搜索过程从数组的中间元素开始，如果中间元素正好是要查找的元素，则搜索过程结束；如果某一特定元素大于或者小于中间元素，则在数组大于或小于中间元素的那一半中查找，而且跟开始一样从中间元素开始比较。如果在某一步骤数组为空，则代表找不到。这种搜索算法每一次比较都使搜索范围缩小一半。"
   ],
   "metadata": {
    "collapsed": false
   }
  },
  {
   "cell_type": "code",
   "execution_count": 221,
   "outputs": [],
   "source": [
    "# 模板\n",
    "def SearchLeft(arr, l, r, x):\n",
    "    while l <= r:\n",
    "        mid = (l+r) // 2\n",
    "\n",
    "        if arr[mid] >= x:\n",
    "            r = mid - 1\n",
    "        else:\n",
    "            l = mid + 1\n",
    "\n",
    "        print(l, r)\n",
    "    if l >= len(arr) or arr[l] != x:\n",
    "        return -1\n",
    "\n",
    "    return l\n",
    "\n",
    "\n",
    "def SearchRight(arr, l, r, x):\n",
    "    while l <= r:\n",
    "        mid = (l+r) // 2\n",
    "\n",
    "        if arr[mid] <= x:\n",
    "            l = mid + 1\n",
    "        else:\n",
    "            r = mid - 1\n",
    "        print(l, r)\n",
    "    if r < 0 or arr[r] != x:\n",
    "        return -1\n",
    "\n",
    "    return r"
   ],
   "metadata": {
    "collapsed": false
   }
  },
  {
   "cell_type": "code",
   "execution_count": 222,
   "outputs": [
    {
     "name": "stdout",
     "output_type": "stream",
     "text": [
      "5 9\n",
      "5 6\n",
      "6 6\n",
      "6 5\n",
      "6\n",
      "\n",
      "5 9\n",
      "8 9\n",
      "9 9\n",
      "9 8\n",
      "8\n"
     ]
    }
   ],
   "source": [
    "nums = [1, 3, 3, 5, 7, 8, 9, 9, 9, 10]\n",
    "target = 9\n",
    "\n",
    "print(SearchLeft(nums, 0, len(nums) - 1, target))\n",
    "print()\n",
    "print(SearchRight(nums, 0, len(nums) - 1, target))"
   ],
   "metadata": {
    "collapsed": false
   }
  }
 ],
 "metadata": {
  "kernelspec": {
   "display_name": "Python 3",
   "language": "python",
   "name": "python3"
  },
  "language_info": {
   "codemirror_mode": {
    "name": "ipython",
    "version": 2
   },
   "file_extension": ".py",
   "mimetype": "text/x-python",
   "name": "python",
   "nbconvert_exporter": "python",
   "pygments_lexer": "ipython2",
   "version": "2.7.6"
  }
 },
 "nbformat": 4,
 "nbformat_minor": 0
}
